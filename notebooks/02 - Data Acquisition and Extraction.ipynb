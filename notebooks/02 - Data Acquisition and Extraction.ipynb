{
 "cells": [
  {
   "cell_type": "markdown",
   "metadata": {},
   "source": [
    "# Introduction"
   ]
  },
  {
   "cell_type": "markdown",
   "metadata": {},
   "source": [
    "A key to effective scraping is to understand how content and data is stored on web servers, how to identify the data you want to retrieve, an understand how the tools support this extraction.  In this chapter we will discuss website structures and the DOM, introduce techniques to parse and query websites with lxml, XPath and CSS.  We will also look at how to work with websites developed in other languages and different encoding types such as Unicode.\n",
    "\n",
    "Ultimately, understanding how to find and extract data within an HTML document comes down to understanding the structure of the HTML page, it's representation with DOM, the process of querying the DOM for specific elements, and how to specify which elements you need want to retrieve based upon how the data is represented.\n",
    "\n",
    "In this chapter we will cover:\n",
    "* How to parse websites & navigate tree\n",
    "* How to parse XML & HTML with lxml\n",
    "* Dealing with children, parents, sibling and attributes\n",
    "* Query data with XPath\n",
    "* Query data with CSS\n",
    "* Beautiful Soap’s find methods\n",
    "* Selectors in Scrapy\n",
    "* Handling HTML in UTF-8 format\n",
    "\n",
    "## Skills Learned\n",
    "* Develop an understanding of the structure of a web page when represented with the DOM\n",
    "* Learn how to navigate through DOM elements using children, siblings and parents\n",
    "* Learn the fundamentals of XPath, and understand how it can be used to find specific pieces of data within an HTML document.\n",
    "* Be able to query and extract data with XPath, CSS and Regular expression\n",
    "* Know how to handle Unicode and UTF-8 encodings for docouments\n",
    "\n",
    "## References\n",
    "[Planetary Facts](https://nssdc.gsfc.nasa.gov/planetary/factsheet/)"
   ]
  },
  {
   "cell_type": "markdown",
   "metadata": {},
   "source": [
    "# How to parse websites & navigate tree, dealing with children, parents, sibling and attributes\n",
    "\n",
    "When the browser displays a web page it builds a model of the content of the page in a representation known as the DOM (document object model).  The DOM is a hierarchical representation of all content of the page, as well as structural information, style information, scripts and links to other content.  It is critical to understand this structure to be able to effectively scrape data from web pages.  We will look at an example web page, its DOM, and examine how to navigate the DOM with beautiful soup.\n",
    "\n",
    "## Getting ready\n",
    "It is possible to examine the DOM in Chrome by right clicking the page and selecting Inspect.  The following shows opening inspection on the page http://127.0.0.1:8080/pages/planets.min.html \n",
    "\n",
    "![](img/01_01.png)\n",
    "\n",
    "This opens the developer tools and the inspector.  The DOM can be examined in the elements tab.  The following shows the selection of the first row in the table.\n",
    "\n",
    "![](img/01_02.png)\n",
    "\n",
    "The tr element represents the row, and there are several characteristics of this element and its neighboring elements that we will examine.  First is that this element has three attributes: id, planet and name.  Attributes are often important in scraping as they commonly are used identify data embedded in the HTML.\n",
    "\n",
    "Second, the tr element has children, in this case the five td elements.  We will often need to look into the children of a specific element to find the actual data we desire.\n",
    "\n",
    "This element has a parent, <tbody>. It also has siblings, the other elements that are also children of the parent element.  As we will see, we can use constructs in XPath to navigate these relationships.\n",
    "\n",
    "## How to do it...\n",
    "\n",
    "We can load this page into a BeautifulSoup object using the following code."
   ]
  },
  {
   "cell_type": "code",
   "execution_count": 1,
   "metadata": {},
   "outputs": [
    {
     "name": "stderr",
     "output_type": "stream",
     "text": [
      "/Users/michaelheydt/anaconda/lib/python3.6/site-packages/bs4/__init__.py:181: UserWarning: No parser was explicitly specified, so I'm using the best available HTML parser for this system (\"lxml\"). This usually isn't a problem, but if you run this code on another system, or in a different virtual environment, it may use a different parser and behave differently.\n",
      "\n",
      "The code that caused this warning is on line 193 of the file /Users/michaelheydt/anaconda/lib/python3.6/runpy.py. To get rid of this warning, change code that looks like this:\n",
      "\n",
      " BeautifulSoup(YOUR_MARKUP})\n",
      "\n",
      "to this:\n",
      "\n",
      " BeautifulSoup(YOUR_MARKUP, \"lxml\")\n",
      "\n",
      "  markup_type=markup_type))\n"
     ]
    }
   ],
   "source": [
    "from urllib.request import urlopen\n",
    "from bs4 import BeautifulSoup\n",
    "html = urlopen(\"http://127.0.0.1:8080/pages/planets.min.html\")\n",
    "bsobj = BeautifulSoup(html)"
   ]
  },
  {
   "cell_type": "markdown",
   "metadata": {},
   "source": [
    "Examining the resulting object bsobj reports the underlying HTML."
   ]
  },
  {
   "cell_type": "code",
   "execution_count": 2,
   "metadata": {},
   "outputs": [
    {
     "data": {
      "text/plain": [
       "'Planetary dataHere are some interesting facts about the planets in our solar systemNameMass (10^24kg)Diameter (km)How it got its NameMercury0.3304879Named Mercurius by the Romans because it appears to move so swiftly.Venus4.8712104Roman name for the goddess of love. This planet was considered to be the brightest and most beautiful planet or star in the heavens. Other civilizations have named it for their god or goddess of love/war.Earth5.9712756The name Earth comes from the Indo-European base \\'er,\\'which produced the Germanic noun \\'ertho,\\' and ultimately German \\'erde,\\' Dutch \\'aarde,\\' Scandinavian \\'jord,\\' and English \\'earth.\\' Related forms include Greek \\'eraze,\\' meaning \\'on the ground,\\' and Welsh \\'erw,\\' meaning \\'a piece of land.\\'Mars0.6426792Named by the Romans for their god of war because of its red, bloodlike color. Other civilizations also named this planet from this attribute; for example, the Egyptians named it \"Her Desher,\" meaning \"the red one.\"Jupiter1898142984The largest and mos'"
      ]
     },
     "execution_count": 2,
     "metadata": {},
     "output_type": "execute_result"
    }
   ],
   "source": [
    "bsobj.text[:1000]"
   ]
  },
  {
   "cell_type": "markdown",
   "metadata": {},
   "source": [
    "We can navigate the elements in the DOM using properties of bsobj.  bsobj represents the overall document and we can drill into the document by chaining the tag names.  The following navigates to the table containing the data."
   ]
  },
  {
   "cell_type": "code",
   "execution_count": 3,
   "metadata": {},
   "outputs": [
    {
     "data": {
      "text/plain": [
       "<table border=\"1\" id=\"planetsList\"><tr><th></th><th>Name</th><th>Mass (10^24kg)</th><th>Diameter (km)</th><th>How it got its Name</th></tr><tr class=\"planet\" id=\"planet1\" name=\"Mercury\"><td><img src=\"img/mercury-150x150.png\"/></td><td>Mercury</td><td>0.330</td><td>4879</td><td>Named Mercurius by the Romans because it appears to move so swiftly.</td></tr><tr class=\"planet\" id=\"planet2\" name=\"Venus\"><td><img src=\"img/venus-150x150.png\"/></td><td>Venus</td><td>4.87</td><td>12104</td><td>Roman name for the goddess of love. This planet was considered to be the brightest and most beautiful planet or star in the heavens. Other civilizations have named it for their god or goddess of love/war.</td></tr><tr class=\"planet\" id=\"planet3\" name=\"Earth\"><td><img src=\"img/earth-150x150.png\"/></td><td>Earth</td><td>5.97</td><td>12756</td><td>The name Earth comes from the Indo-European base 'er,'which produced the Germanic noun 'ertho,' and ultimately German 'erde,' Dutch 'aarde,' Scandinavian 'jord,' and English 'earth.' Related forms include Greek 'eraze,' meaning 'on the ground,' and Welsh 'erw,' meaning 'a piece of land.'</td></tr><tr class=\"planet\" id=\"planet4\" name=\"Mars\"><td><img src=\"img/mars-150x150.png\"/></td><td>Mars</td><td>0.642</td><td>6792</td><td>Named by the Romans for their god of war because of its red, bloodlike color. Other civilizations also named this planet from this attribute; for example, the Egyptians named it \"Her Desher,\" meaning \"the red one.\"</td></tr><tr class=\"planet\" id=\"planet5\" name=\"Jupiter\"><td><img src=\"img/jupiter-150x150.png\"/></td><td>Jupiter</td><td>1898</td><td>142984</td><td>The largest and most massive of the planets was named Zeus by the Greeks and Jupiter by the Romans; he was the most important deity in both pantheons.</td></tr><tr class=\"planet\" id=\"planet6\" name=\"Saturn\"><td><img src=\"img/saturn-150x150.png\"/></td><td>Saturn</td><td>568</td><td>120536</td><td>Roman name for the Greek Cronos, father of Zeus/Jupiter. Other civilizations have given different names to Saturn, which is the farthest planet from Earth that can be observed by the naked human eye. Most of its satellites were named for Titans who, according to Greek mythology, were brothers and sisters of Saturn.</td></tr><tr class=\"planet\" id=\"planet7\" name=\"Uranus\"><td><img src=\"img/uranus-150x150.png\"/></td><td>Uranus</td><td>86.8</td><td>51118</td><td>Several astronomers, including Flamsteed and Le Monnier, had observed Uranus earlier but had recorded it as a fixed star. Herschel tried unsuccessfully to name his discovery \"Georgian Sidus\" after George III; the planet was named by Johann Bode in 1781 after the ancient Greek deity of the sky Uranus, the father of Kronos (Saturn) and grandfather of Zeus (Jupiter).</td></tr><tr class=\"planet\" id=\"planet8\" name=\"Neptune\"><td><img src=\"img/neptune-150x150.png\"/></td><td>Neptune</td><td>102</td><td>49528</td><td>Neptune was \"predicted\" by John Couch Adams and Urbain Le Verrier who, independently, were able to account for the irregularities in the motion of Uranus by correctly predicting the orbital elements of a trans- Uranian body. Using the predicted parameters of Le Verrier (Adams never published his predictions), Johann Galle observed the planet in 1846. Galle wanted to name the planet for Le Verrier, but that was not acceptable to the international astronomical community. Instead, this planet is named for the Roman god of the sea.</td></tr><tr class=\"planet\" id=\"planet9\" name=\"Pluto\"><td><img src=\"img/pluto-150x150.png\"/></td><td>Pluto</td><td>0.0146</td><td>2370</td><td>Pluto was discovered at Lowell Observatory in Flagstaff, AZ during a systematic search for a trans-Neptune planet predicted by Percival Lowell and William H. Pickering. Named after the Roman god of the underworld who was able to render himself invisible.</td></tr></table>"
      ]
     },
     "execution_count": 3,
     "metadata": {},
     "output_type": "execute_result"
    }
   ],
   "source": [
    "bsobj.html.body.div.table"
   ]
  },
  {
   "cell_type": "markdown",
   "metadata": {},
   "source": [
    "Each node has both children and descendants. Descendants are all the nodes underneath a given node, while children are those that are a first level descendant.  The following retrieves the children of the table."
   ]
  },
  {
   "cell_type": "code",
   "execution_count": 4,
   "metadata": {},
   "outputs": [
    {
     "data": {
      "text/plain": [
       "<list_iterator at 0x10be15710>"
      ]
     },
     "execution_count": 4,
     "metadata": {},
     "output_type": "execute_result"
    }
   ],
   "source": [
    "bsobj.html.body.div.table.children"
   ]
  },
  {
   "cell_type": "markdown",
   "metadata": {},
   "source": [
    "We can look over each child element using a for loop. The following will get all the children of the table element, each of which is a tr element."
   ]
  },
  {
   "cell_type": "code",
   "execution_count": 5,
   "metadata": {},
   "outputs": [
    {
     "name": "stdout",
     "output_type": "stream",
     "text": [
      "<tr><th></th><th>Name</th><th>Mass (10^24kg)</th><th>Diameter (km)</th><th>How it got its Name</th></tr>\n",
      "<tr class=\"planet\" id=\"planet1\" name=\"Mercury\"><td><img src=\"img/mercury-150x150.png\"/></td><td>Mercury</td><td>0.330</td><td>4879</td><td>Named Mercurius by the Romans because it appears to move so swiftly.</td></tr>\n",
      "<tr class=\"planet\" id=\"planet2\" name=\"Venus\"><td><img src=\"img/venus-150x150.png\"/></td><td>Venus</td><td>4.87</td><td>12104</td><td>Roman name for the goddess of love. This planet was considered to be the brightest and most beautiful planet or star in the heavens. Other civilizations have named it for their god or goddess of love/war.</td></tr>\n",
      "<tr class=\"planet\" id=\"planet3\" name=\"Earth\"><td><img src=\"img/earth-150x150.png\"/></td><td>Earth</td><td>5.97</td><td>12756</td><td>The name Earth comes from the Indo-European base 'er,'which produced the Germanic noun 'ertho,' and ultimately German 'erde,' Dutch 'aarde,' Scandinavian 'jord,' and English 'earth.' Related forms include Greek 'eraze,' meaning 'on the ground,' and Welsh 'erw,' meaning 'a piece of land.'</td></tr>\n",
      "<tr class=\"planet\" id=\"planet4\" name=\"Mars\"><td><img src=\"img/mars-150x150.png\"/></td><td>Mars</td><td>0.642</td><td>6792</td><td>Named by the Romans for their god of war because of its red, bloodlike color. Other civilizations also named this planet from this attribute; for example, the Egyptians named it \"Her Desher,\" meaning \"the red one.\"</td></tr>\n",
      "<tr class=\"planet\" id=\"planet5\" name=\"Jupiter\"><td><img src=\"img/jupiter-150x150.png\"/></td><td>Jupiter</td><td>1898</td><td>142984</td><td>The largest and most massive of the planets was named Zeus by the Greeks and Jupiter by the Romans; he was the most important deity in both pantheons.</td></tr>\n",
      "<tr class=\"planet\" id=\"planet6\" name=\"Saturn\"><td><img src=\"img/saturn-150x150.png\"/></td><td>Saturn</td><td>568</td><td>120536</td><td>Roman name for the Greek Cronos, father of Zeus/Jupiter. Other civilizations have given different names to Saturn, which is the farthest planet from Earth that can be observed by the naked human eye. Most of its satellites were named for Titans who, according to Greek mythology, were brothers and sisters of Saturn.</td></tr>\n",
      "<tr class=\"planet\" id=\"planet7\" name=\"Uranus\"><td><img src=\"img/uranus-150x150.png\"/></td><td>Uranus</td><td>86.8</td><td>51118</td><td>Several astronomers, including Flamsteed and Le Monnier, had observed Uranus earlier but had recorded it as a fixed star. Herschel tried unsuccessfully to name his discovery \"Georgian Sidus\" after George III; the planet was named by Johann Bode in 1781 after the ancient Greek deity of the sky Uranus, the father of Kronos (Saturn) and grandfather of Zeus (Jupiter).</td></tr>\n",
      "<tr class=\"planet\" id=\"planet8\" name=\"Neptune\"><td><img src=\"img/neptune-150x150.png\"/></td><td>Neptune</td><td>102</td><td>49528</td><td>Neptune was \"predicted\" by John Couch Adams and Urbain Le Verrier who, independently, were able to account for the irregularities in the motion of Uranus by correctly predicting the orbital elements of a trans- Uranian body. Using the predicted parameters of Le Verrier (Adams never published his predictions), Johann Galle observed the planet in 1846. Galle wanted to name the planet for Le Verrier, but that was not acceptable to the international astronomical community. Instead, this planet is named for the Roman god of the sea.</td></tr>\n",
      "<tr class=\"planet\" id=\"planet9\" name=\"Pluto\"><td><img src=\"img/pluto-150x150.png\"/></td><td>Pluto</td><td>0.0146</td><td>2370</td><td>Pluto was discovered at Lowell Observatory in Flagstaff, AZ during a systematic search for a trans-Neptune planet predicted by Percival Lowell and William H. Pickering. Named after the Roman god of the underworld who was able to render himself invisible.</td></tr>\n"
     ]
    }
   ],
   "source": [
    "for c in bsobj.html.body.div.table.children:\n",
    "    print (c)"
   ]
  },
  {
   "cell_type": "markdown",
   "metadata": {},
   "source": [
    "Beautiful soup will always return the first descendant of an element when using tags as properties.  While the table has many rows, .tr only returns the first tr child."
   ]
  },
  {
   "cell_type": "code",
   "execution_count": 6,
   "metadata": {},
   "outputs": [
    {
     "data": {
      "text/plain": [
       "<tr><th></th><th>Name</th><th>Mass (10^24kg)</th><th>Diameter (km)</th><th>How it got its Name</th></tr>"
      ]
     },
     "execution_count": 6,
     "metadata": {},
     "output_type": "execute_result"
    }
   ],
   "source": [
    "bsobj.html.body.div.table.tr"
   ]
  },
  {
   "cell_type": "markdown",
   "metadata": {},
   "source": [
    "From any given sibling, we can progress to the next sibling using .find_next_sibling()."
   ]
  },
  {
   "cell_type": "code",
   "execution_count": 7,
   "metadata": {},
   "outputs": [
    {
     "data": {
      "text/plain": [
       "<tr class=\"planet\" id=\"planet1\" name=\"Mercury\"><td><img src=\"img/mercury-150x150.png\"/></td><td>Mercury</td><td>0.330</td><td>4879</td><td>Named Mercurius by the Romans because it appears to move so swiftly.</td></tr>"
      ]
     },
     "execution_count": 7,
     "metadata": {},
     "output_type": "execute_result"
    }
   ],
   "source": [
    "bsobj.html.body.div.table.tr.find_next_sibling()"
   ]
  },
  {
   "cell_type": "markdown",
   "metadata": {},
   "source": [
    "The following demonstrates iterating all descendants of the first tr element."
   ]
  },
  {
   "cell_type": "code",
   "execution_count": 8,
   "metadata": {},
   "outputs": [
    {
     "name": "stdout",
     "output_type": "stream",
     "text": [
      "<th></th>\n",
      "<th>Name</th>\n",
      "Name\n",
      "<th>Mass (10^24kg)</th>\n",
      "Mass (10^24kg)\n",
      "<th>Diameter (km)</th>\n",
      "Diameter (km)\n",
      "<th>How it got its Name</th>\n",
      "How it got its Name\n"
     ]
    }
   ],
   "source": [
    "for d in bsobj.html.body.div.table.tr.descendants:\n",
    "    print (d)"
   ]
  },
  {
   "cell_type": "markdown",
   "metadata": {},
   "source": [
    "The parent of a node can be found using the .parent property."
   ]
  },
  {
   "cell_type": "code",
   "execution_count": 9,
   "metadata": {},
   "outputs": [
    {
     "data": {
      "text/plain": [
       "<table border=\"1\" id=\"planetsList\"><tr><th></th><th>Name</th><th>Mass (10^24kg)</th><th>Diameter (km)</th><th>How it got its Name</th></tr><tr class=\"planet\" id=\"planet1\" name=\"Mercury\"><td><img src=\"img/mercury-150x150.png\"/></td><td>Mercury</td><td>0.330</td><td>4879</td><td>Named Mercurius by the Romans because it appears to move so swiftly.</td></tr><tr class=\"planet\" id=\"planet2\" name=\"Venus\"><td><img src=\"img/venus-150x150.png\"/></td><td>Venus</td><td>4.87</td><td>12104</td><td>Roman name for the goddess of love. This planet was considered to be the brightest and most beautiful planet or star in the heavens. Other civilizations have named it for their god or goddess of love/war.</td></tr><tr class=\"planet\" id=\"planet3\" name=\"Earth\"><td><img src=\"img/earth-150x150.png\"/></td><td>Earth</td><td>5.97</td><td>12756</td><td>The name Earth comes from the Indo-European base 'er,'which produced the Germanic noun 'ertho,' and ultimately German 'erde,' Dutch 'aarde,' Scandinavian 'jord,' and English 'earth.' Related forms include Greek 'eraze,' meaning 'on the ground,' and Welsh 'erw,' meaning 'a piece of land.'</td></tr><tr class=\"planet\" id=\"planet4\" name=\"Mars\"><td><img src=\"img/mars-150x150.png\"/></td><td>Mars</td><td>0.642</td><td>6792</td><td>Named by the Romans for their god of war because of its red, bloodlike color. Other civilizations also named this planet from this attribute; for example, the Egyptians named it \"Her Desher,\" meaning \"the red one.\"</td></tr><tr class=\"planet\" id=\"planet5\" name=\"Jupiter\"><td><img src=\"img/jupiter-150x150.png\"/></td><td>Jupiter</td><td>1898</td><td>142984</td><td>The largest and most massive of the planets was named Zeus by the Greeks and Jupiter by the Romans; he was the most important deity in both pantheons.</td></tr><tr class=\"planet\" id=\"planet6\" name=\"Saturn\"><td><img src=\"img/saturn-150x150.png\"/></td><td>Saturn</td><td>568</td><td>120536</td><td>Roman name for the Greek Cronos, father of Zeus/Jupiter. Other civilizations have given different names to Saturn, which is the farthest planet from Earth that can be observed by the naked human eye. Most of its satellites were named for Titans who, according to Greek mythology, were brothers and sisters of Saturn.</td></tr><tr class=\"planet\" id=\"planet7\" name=\"Uranus\"><td><img src=\"img/uranus-150x150.png\"/></td><td>Uranus</td><td>86.8</td><td>51118</td><td>Several astronomers, including Flamsteed and Le Monnier, had observed Uranus earlier but had recorded it as a fixed star. Herschel tried unsuccessfully to name his discovery \"Georgian Sidus\" after George III; the planet was named by Johann Bode in 1781 after the ancient Greek deity of the sky Uranus, the father of Kronos (Saturn) and grandfather of Zeus (Jupiter).</td></tr><tr class=\"planet\" id=\"planet8\" name=\"Neptune\"><td><img src=\"img/neptune-150x150.png\"/></td><td>Neptune</td><td>102</td><td>49528</td><td>Neptune was \"predicted\" by John Couch Adams and Urbain Le Verrier who, independently, were able to account for the irregularities in the motion of Uranus by correctly predicting the orbital elements of a trans- Uranian body. Using the predicted parameters of Le Verrier (Adams never published his predictions), Johann Galle observed the planet in 1846. Galle wanted to name the planet for Le Verrier, but that was not acceptable to the international astronomical community. Instead, this planet is named for the Roman god of the sea.</td></tr><tr class=\"planet\" id=\"planet9\" name=\"Pluto\"><td><img src=\"img/pluto-150x150.png\"/></td><td>Pluto</td><td>0.0146</td><td>2370</td><td>Pluto was discovered at Lowell Observatory in Flagstaff, AZ during a systematic search for a trans-Neptune planet predicted by Percival Lowell and William H. Pickering. Named after the Roman god of the underworld who was able to render himself invisible.</td></tr></table>"
      ]
     },
     "execution_count": 9,
     "metadata": {},
     "output_type": "execute_result"
    }
   ],
   "source": [
    "bsobj.html.body.div.table.tr.parent"
   ]
  },
  {
   "cell_type": "markdown",
   "metadata": {},
   "source": [
    "## How it works\n",
    "Beautiful soup converts the HTML from the page into it’s own internal representation.  This model has an identical representation to the DOM that would be created by a browser.  But beautiful soup also provides many powerful capabilities for navigating the elements in the DOM, such as what we have seen using the tags as properties \n",
    "\n",
    "## There's more...\n",
    "This manner of navigating the DOM is relatively inflexible and is highly dependent upon the structure.  It is possible that this structure can change over time as web pages are updated by their creator(s).  They could even look identical, but have a completely different structure that breaks your scraping code.\n",
    "\n",
    "So how can we deal with this?  As we will see, there are several ways of searching for elements that are much better than defining explicit paths.  In general, we can do this using XPath, and also using the find methods of beautiful soup.  We will examine both in further recipes in this chapter."
   ]
  },
  {
   "cell_type": "markdown",
   "metadata": {},
   "source": [
    "---\n",
    "# BeautifulSoup's find methods\n",
    "Items can also be located within the DOM using beautiful soups find methods.  These methods give us a much more flexible and powerful construct for finding elements that is not dependent upon the hierarchy of those elements, and which also provides us with search capabilities.\n",
    "\n",
    "We will examine several common uses of these functions to locate various elements in the DOM.\n",
    "\n",
    "## Getting ready\n",
    "We will start by loading the sample page."
   ]
  },
  {
   "cell_type": "code",
   "execution_count": 10,
   "metadata": {},
   "outputs": [
    {
     "name": "stderr",
     "output_type": "stream",
     "text": [
      "/Users/michaelheydt/anaconda/lib/python3.6/site-packages/bs4/__init__.py:181: UserWarning: No parser was explicitly specified, so I'm using the best available HTML parser for this system (\"lxml\"). This usually isn't a problem, but if you run this code on another system, or in a different virtual environment, it may use a different parser and behave differently.\n",
      "\n",
      "The code that caused this warning is on line 193 of the file /Users/michaelheydt/anaconda/lib/python3.6/runpy.py. To get rid of this warning, change code that looks like this:\n",
      "\n",
      " BeautifulSoup(YOUR_MARKUP})\n",
      "\n",
      "to this:\n",
      "\n",
      " BeautifulSoup(YOUR_MARKUP, \"lxml\")\n",
      "\n",
      "  markup_type=markup_type))\n"
     ]
    }
   ],
   "source": [
    "from urllib.request import urlopen\n",
    "from bs4 import BeautifulSoup\n",
    "html = urlopen(\"http://127.0.0.1:8080/pages/planets.min.html\")\n",
    "bsobj = BeautifulSoup(html)"
   ]
  },
  {
   "cell_type": "markdown",
   "metadata": {},
   "source": [
    "## How to do it...\n",
    "In the previous example to access all of the tr elements that contained data we needed to get the table property and then either select the children of that element, or get the first tr descendant and iterate through all remaining siblings.  \n",
    "\n",
    "We can do this more effectively with the following."
   ]
  },
  {
   "cell_type": "code",
   "execution_count": 11,
   "metadata": {},
   "outputs": [
    {
     "data": {
      "text/plain": [
       "[<tr><th></th><th>Name</th><th>Mass (10^24kg)</th><th>Diameter (km)</th><th>How it got its Name</th></tr>,\n",
       " <tr class=\"planet\" id=\"planet1\" name=\"Mercury\"><td><img src=\"img/mercury-150x150.png\"/></td><td>Mercury</td><td>0.330</td><td>4879</td><td>Named Mercurius by the Romans because it appears to move so swiftly.</td></tr>,\n",
       " <tr class=\"planet\" id=\"planet2\" name=\"Venus\"><td><img src=\"img/venus-150x150.png\"/></td><td>Venus</td><td>4.87</td><td>12104</td><td>Roman name for the goddess of love. This planet was considered to be the brightest and most beautiful planet or star in the heavens. Other civilizations have named it for their god or goddess of love/war.</td></tr>,\n",
       " <tr class=\"planet\" id=\"planet3\" name=\"Earth\"><td><img src=\"img/earth-150x150.png\"/></td><td>Earth</td><td>5.97</td><td>12756</td><td>The name Earth comes from the Indo-European base 'er,'which produced the Germanic noun 'ertho,' and ultimately German 'erde,' Dutch 'aarde,' Scandinavian 'jord,' and English 'earth.' Related forms include Greek 'eraze,' meaning 'on the ground,' and Welsh 'erw,' meaning 'a piece of land.'</td></tr>,\n",
       " <tr class=\"planet\" id=\"planet4\" name=\"Mars\"><td><img src=\"img/mars-150x150.png\"/></td><td>Mars</td><td>0.642</td><td>6792</td><td>Named by the Romans for their god of war because of its red, bloodlike color. Other civilizations also named this planet from this attribute; for example, the Egyptians named it \"Her Desher,\" meaning \"the red one.\"</td></tr>,\n",
       " <tr class=\"planet\" id=\"planet5\" name=\"Jupiter\"><td><img src=\"img/jupiter-150x150.png\"/></td><td>Jupiter</td><td>1898</td><td>142984</td><td>The largest and most massive of the planets was named Zeus by the Greeks and Jupiter by the Romans; he was the most important deity in both pantheons.</td></tr>,\n",
       " <tr class=\"planet\" id=\"planet6\" name=\"Saturn\"><td><img src=\"img/saturn-150x150.png\"/></td><td>Saturn</td><td>568</td><td>120536</td><td>Roman name for the Greek Cronos, father of Zeus/Jupiter. Other civilizations have given different names to Saturn, which is the farthest planet from Earth that can be observed by the naked human eye. Most of its satellites were named for Titans who, according to Greek mythology, were brothers and sisters of Saturn.</td></tr>,\n",
       " <tr class=\"planet\" id=\"planet7\" name=\"Uranus\"><td><img src=\"img/uranus-150x150.png\"/></td><td>Uranus</td><td>86.8</td><td>51118</td><td>Several astronomers, including Flamsteed and Le Monnier, had observed Uranus earlier but had recorded it as a fixed star. Herschel tried unsuccessfully to name his discovery \"Georgian Sidus\" after George III; the planet was named by Johann Bode in 1781 after the ancient Greek deity of the sky Uranus, the father of Kronos (Saturn) and grandfather of Zeus (Jupiter).</td></tr>,\n",
       " <tr class=\"planet\" id=\"planet8\" name=\"Neptune\"><td><img src=\"img/neptune-150x150.png\"/></td><td>Neptune</td><td>102</td><td>49528</td><td>Neptune was \"predicted\" by John Couch Adams and Urbain Le Verrier who, independently, were able to account for the irregularities in the motion of Uranus by correctly predicting the orbital elements of a trans- Uranian body. Using the predicted parameters of Le Verrier (Adams never published his predictions), Johann Galle observed the planet in 1846. Galle wanted to name the planet for Le Verrier, but that was not acceptable to the international astronomical community. Instead, this planet is named for the Roman god of the sea.</td></tr>,\n",
       " <tr class=\"planet\" id=\"planet9\" name=\"Pluto\"><td><img src=\"img/pluto-150x150.png\"/></td><td>Pluto</td><td>0.0146</td><td>2370</td><td>Pluto was discovered at Lowell Observatory in Flagstaff, AZ during a systematic search for a trans-Neptune planet predicted by Percival Lowell and William H. Pickering. Named after the Roman god of the underworld who was able to render himself invisible.</td></tr>]"
      ]
     },
     "execution_count": 11,
     "metadata": {},
     "output_type": "execute_result"
    }
   ],
   "source": [
    "all_tr = bsobj.html.body.div.table.findAll(\"tr\")\n",
    "all_tr"
   ]
  },
  {
   "cell_type": "markdown",
   "metadata": {},
   "source": [
    "Awesome, this has returned us all the tr elements that are descendants of the table with one simple statement, and also gave us them as a python list instead of an iterator.\n",
    "\n",
    "We can also specify that the attributes of the tag that we are searching for be a specific name and values.  The following retrieves tr elements with the an id=\"planet1\" attribute (Mercury)."
   ]
  },
  {
   "cell_type": "code",
   "execution_count": 12,
   "metadata": {},
   "outputs": [
    {
     "data": {
      "text/plain": [
       "[<tr class=\"planet\" id=\"planet1\" name=\"Mercury\"><td><img src=\"img/mercury-150x150.png\"/></td><td>Mercury</td><td>0.330</td><td>4879</td><td>Named Mercurius by the Romans because it appears to move so swiftly.</td></tr>]"
      ]
     },
     "execution_count": 12,
     "metadata": {},
     "output_type": "execute_result"
    }
   ],
   "source": [
    "mercury = bsobj.html.body.div.table.findAll(\"tr\", {\"id\": \"planet1\"})\n",
    "mercury"
   ]
  },
  {
   "cell_type": "markdown",
   "metadata": {},
   "source": [
    "Awesome!  And we used the fact that this page uses this attribute to represent table rows with actual data, with the result then also omitting the header tr element.  The following demonstrates by building a dictionary of the planets and their masses."
   ]
  },
  {
   "cell_type": "code",
   "execution_count": 13,
   "metadata": {},
   "outputs": [
    {
     "data": {
      "text/plain": [
       "{'Earth': '5.97',\n",
       " 'Jupiter': '1898',\n",
       " 'Mars': '0.642',\n",
       " 'Mercury': '0.330',\n",
       " 'Neptune': '102',\n",
       " 'Pluto': '0.0146',\n",
       " 'Saturn': '568',\n",
       " 'Uranus': '86.8',\n",
       " 'Venus': '4.87'}"
      ]
     },
     "execution_count": 13,
     "metadata": {},
     "output_type": "execute_result"
    }
   ],
   "source": [
    "items_price = dict()\n",
    "planet_rows = bsobj.html.body.div.table.findAll(\"tr\", {\"class\": \"planet\"})\n",
    "for i in planet_rows:\n",
    "    tds = i.findAll(\"td\")\n",
    "    items_price[tds[1].text.strip()] = tds[2].text.strip()\n",
    "items_price"
   ]
  },
  {
   "cell_type": "markdown",
   "metadata": {},
   "source": [
    "## How it works\n",
    "This works because the findAll performs a search for all DOM elements with the given name.  Under the covers, it likely converts the string provided to findAll to XPath.\n",
    "\n",
    "## There's more...\n",
    "Speaking of XPath, it's now time to cover it in some detail.  That's the next section."
   ]
  },
  {
   "cell_type": "markdown",
   "metadata": {},
   "source": [
    "# Query with XPath\n",
    "The lxml XML toolkit is a Pythonic binding for the C libraries libxml2 and libxslt. It is unique in that it combines the speed and XML feature completeness of these libraries with the simplicity of a native Python API, mostly compatible but superior to the well-known ElementTree API. The latest release works with all CPython versions from 2.6 to 3.6. See the introduction for more information about background and goals of the lxml project. Some common questions are answered in the FAQ.\n",
    "\n",
    "Lxml is a Python wrapper on top of the libxml2 XML parsing library written in C, which helps make it faster than Beautiful Soup but also harder to install on some computers. The latest installation instructions are available at http://lxml.de/installation.html.\n",
    "\n",
    "lxml supports XPath which makes it considerably easy to manage complex XML and HTML documents.  We will examine several techniques of using lxml and XPath together, and how to use lxml and XPath to navigate the DOM and access data.\n",
    "\n",
    "## Getting ready\n",
    "Start by importing html from lxml, and also requests."
   ]
  },
  {
   "cell_type": "code",
   "execution_count": 14,
   "metadata": {},
   "outputs": [],
   "source": [
    "from lxml import html\n",
    "import requests"
   ]
  },
  {
   "cell_type": "markdown",
   "metadata": {},
   "source": [
    "Now let's load the page with requests."
   ]
  },
  {
   "cell_type": "code",
   "execution_count": 15,
   "metadata": {},
   "outputs": [
    {
     "data": {
      "text/plain": [
       "'<html>\\r\\n\\r\\n<head>\\r\\n</head>\\r\\n\\r\\n<body>\\r\\n    <div id=\"planets\">\\r\\n        <h1>Planetary data</h1>\\r\\n        <div id=\"content\">Here are some interesting facts about the planets in our solar system</div>\\r\\n        <p></p>\\r\\n        <table id=\"planetsTable\" border=\"1\">\\r\\n            <tr id=\"planetHeader\">\\r\\n                <th>\\r\\n                </th>\\r\\n                <th>\\r\\n                    Name\\r\\n                </th>\\r\\n                <th>\\r\\n                    Mass (10^24kg)\\r\\n                </th>\\r\\n                <th>\\r\\n                    Diameter (km)\\r\\n                </th>\\r\\n                <th>\\r\\n                    How it got its Name\\r\\n                </th>\\r\\n            </tr>\\r\\n\\r\\n            <tr id=\"planet1\" class=\"planet\" name=\"Mercury\">\\r\\n                <td>\\r\\n                    <img src=\"img/mercury-150x150.png\">\\r\\n                </td>\\r\\n                <td>\\r\\n                    Mercury\\r\\n                </td>\\r\\n                <td>\\r\\n                    0.330\\r\\n                </td>\\r\\n           '"
      ]
     },
     "execution_count": 15,
     "metadata": {},
     "output_type": "execute_result"
    }
   ],
   "source": [
    "page = requests.get(\"http://127.0.0.1:8080/pages/planets.html\")\n",
    "page.text[:1000]"
   ]
  },
  {
   "cell_type": "markdown",
   "metadata": {},
   "source": [
    "Now load the content into an element tree."
   ]
  },
  {
   "cell_type": "code",
   "execution_count": 16,
   "metadata": {},
   "outputs": [
    {
     "data": {
      "text/plain": [
       "<Element html at 0x10c578278>"
      ]
     },
     "execution_count": 16,
     "metadata": {},
     "output_type": "execute_result"
    }
   ],
   "source": [
    "tree = html.fromstring(page.content)\n",
    "tree"
   ]
  },
  {
   "cell_type": "markdown",
   "metadata": {},
   "source": [
    "The tree variable is now an lxml representation of the DOM which models the HTML content."
   ]
  },
  {
   "cell_type": "markdown",
   "metadata": {},
   "source": [
    "## How to do it...\n",
    "The ultimate goal of this task is to learn about XPath and how to use it to extract data from HTML.  We will examine this specific document and look to extract data for the planets and learn various XPath concepts.\n",
    "\n",
    "Let's start with the following XPath."
   ]
  },
  {
   "cell_type": "code",
   "execution_count": 17,
   "metadata": {},
   "outputs": [
    {
     "name": "stdout",
     "output_type": "stream",
     "text": [
      "<Element tr at 0x10c578868>\n",
      "<Element tr at 0x10c5788b8>\n",
      "<Element tr at 0x10c578908>\n",
      "<Element tr at 0x10c578958>\n",
      "<Element tr at 0x10c5789a8>\n",
      "<Element tr at 0x10c5789f8>\n",
      "<Element tr at 0x10c578a48>\n",
      "<Element tr at 0x10c578a98>\n",
      "<Element tr at 0x10c578ae8>\n",
      "<Element tr at 0x10c578b38>\n",
      "<Element tr at 0x10c578b88>\n"
     ]
    }
   ],
   "source": [
    "for v in tree.xpath(\"/html/body/div/table/tr\"):\n",
    "    print (v)"
   ]
  },
  {
   "cell_type": "markdown",
   "metadata": {},
   "source": [
    "This XPath asks to return all the tr elements found from the root of the document and descending through tags with names html, body, div and table.\n",
    "\n",
    "This returned 11 tr elements.  This is perhaps a little curious as there are only 9 planets in the data, so why 11 rows?\n",
    "\n",
    "Let's examine by changing the statement slightly."
   ]
  },
  {
   "cell_type": "code",
   "execution_count": 18,
   "metadata": {},
   "outputs": [
    {
     "name": "stdout",
     "output_type": "stream",
     "text": [
      "['planetHeader']\n",
      "['planet1']\n",
      "['planet2']\n",
      "['planet3']\n",
      "['planet4']\n",
      "['planet5']\n",
      "['planet6']\n",
      "['planet7']\n",
      "['planet8']\n",
      "['planet9']\n",
      "['footerRow']\n"
     ]
    }
   ],
   "source": [
    "for v in tree.xpath(\"/html/body/div/table/tr\"):\n",
    "    print (v.xpath(\"@id\"))"
   ]
  },
  {
   "cell_type": "markdown",
   "metadata": {},
   "source": [
    "This modification prints the value of the id attribute of the tr rows that are found.  The XPath for an attribute of the current node is @ followed by the attribute name.\n",
    "\n",
    "So this is returning all the rows from two different tables.  At each level of the XPath (between any /'s) there can be multiple return values.  There are two div tags beneath body in this document.  So the XPath engine continues to look down the next level (to table) on all the found div elements.  The table then returns two tables, and then the process continues with finding all the tr elements on all the found tables.  So 9 planet rows, plus one header, and one footer row.\n",
    "\n",
    "So how can we select just the table and rows with planet data?  In this document, there are several ways (by design).\n",
    "\n",
    "Take the following as a first example."
   ]
  },
  {
   "cell_type": "code",
   "execution_count": 19,
   "metadata": {},
   "outputs": [
    {
     "name": "stdout",
     "output_type": "stream",
     "text": [
      "<Element tr at 0x10c578a98> ['planetHeader']\n",
      "<Element tr at 0x10c578ef8> ['planet1']\n",
      "<Element tr at 0x10c578b38> ['planet2']\n",
      "<Element tr at 0x10c578f48> ['planet3']\n",
      "<Element tr at 0x10c587048> ['planet4']\n",
      "<Element tr at 0x10c587098> ['planet5']\n",
      "<Element tr at 0x10c5870e8> ['planet6']\n",
      "<Element tr at 0x10c587138> ['planet7']\n",
      "<Element tr at 0x10c587188> ['planet8']\n",
      "<Element tr at 0x10c5871d8> ['planet9']\n"
     ]
    }
   ],
   "source": [
    "for v in tree.xpath(\"/html/body/div[1]/table/tr\"):\n",
    "    print (v, v.xpath(\"@id\"))"
   ]
  },
  {
   "cell_type": "markdown",
   "metadata": {},
   "source": [
    "Each level of the XPath can return multiple elements in an array.  This array starts at 1 instead of 0 (a common source of errors).  So this statement states that we want the first div that is found.\n",
    "\n",
    "With this document we can also specify that we only want a div with an id attribute with a particular value, in this case \"planets\"."
   ]
  },
  {
   "cell_type": "code",
   "execution_count": 20,
   "metadata": {},
   "outputs": [
    {
     "name": "stdout",
     "output_type": "stream",
     "text": [
      "<Element tr at 0x10c55b6d8> ['planetHeader']\n",
      "<Element tr at 0x10c5874f8> ['planet1']\n",
      "<Element tr at 0x10c587318> ['planet2']\n",
      "<Element tr at 0x10c587368> ['planet3']\n",
      "<Element tr at 0x10c587048> ['planet4']\n",
      "<Element tr at 0x10c587098> ['planet5']\n",
      "<Element tr at 0x10c5870e8> ['planet6']\n",
      "<Element tr at 0x10c587138> ['planet7']\n",
      "<Element tr at 0x10c587188> ['planet8']\n",
      "<Element tr at 0x10c5871d8> ['planet9']\n"
     ]
    }
   ],
   "source": [
    "for v in tree.xpath(\"/html/body/div[@id='planets']/table/tr\"):\n",
    "    print (v, v.xpath(\"@id\"))"
   ]
  },
  {
   "cell_type": "markdown",
   "metadata": {},
   "source": [
    "We will want to exclude the header row from this result.  There are several ways to do this.  The first can use the fact that the row has an id of \"planetHeader\"."
   ]
  },
  {
   "cell_type": "code",
   "execution_count": 21,
   "metadata": {},
   "outputs": [
    {
     "name": "stdout",
     "output_type": "stream",
     "text": [
      "<Element tr at 0x10c578868> ['planet1']\n",
      "<Element tr at 0x10c578a98> ['planet2']\n",
      "<Element tr at 0x10c587368> ['planet3']\n",
      "<Element tr at 0x10c5877c8> ['planet4']\n",
      "<Element tr at 0x10c587818> ['planet5']\n",
      "<Element tr at 0x10c587048> ['planet6']\n",
      "<Element tr at 0x10c587098> ['planet7']\n",
      "<Element tr at 0x10c5870e8> ['planet8']\n",
      "<Element tr at 0x10c5871d8> ['planet9']\n"
     ]
    }
   ],
   "source": [
    "for v in tree.xpath(\"/html/body/div[@id='planets']/table/tr[@id!='planetHeader']\"):\n",
    "    print (v, v.xpath(\"@id\"))"
   ]
  },
  {
   "cell_type": "markdown",
   "metadata": {},
   "source": [
    "We could also use the fact that the planet rows have an attribute class with value of planet."
   ]
  },
  {
   "cell_type": "code",
   "execution_count": 22,
   "metadata": {},
   "outputs": [
    {
     "name": "stdout",
     "output_type": "stream",
     "text": [
      "<Element tr at 0x10be4b318> ['planet1']\n",
      "<Element tr at 0x10c578a48> ['planet2']\n",
      "<Element tr at 0x10c587818> ['planet3']\n",
      "<Element tr at 0x10c587a98> ['planet4']\n",
      "<Element tr at 0x10c587ae8> ['planet5']\n",
      "<Element tr at 0x10c587048> ['planet6']\n",
      "<Element tr at 0x10c587098> ['planet7']\n",
      "<Element tr at 0x10c5870e8> ['planet8']\n",
      "<Element tr at 0x10c5871d8> ['planet9']\n"
     ]
    }
   ],
   "source": [
    "for v in tree.xpath(\"/html/body/div[@id='planets']/table/tr[@class='planet']\"):\n",
    "    print (v, v.xpath(\"@id\"))"
   ]
  },
  {
   "cell_type": "markdown",
   "metadata": {},
   "source": [
    "Say the planet rows did not have attributes (nor the header row), then we could do this by position, skipping the first row."
   ]
  },
  {
   "cell_type": "code",
   "execution_count": 23,
   "metadata": {},
   "outputs": [
    {
     "name": "stdout",
     "output_type": "stream",
     "text": [
      "<Element tr at 0x10c587db8> ['Mercury']\n",
      "<Element tr at 0x10c587e08> ['Venus']\n",
      "<Element tr at 0x10c587ae8> ['Earth']\n",
      "<Element tr at 0x10c587048> ['Mars']\n",
      "<Element tr at 0x10c587098> ['Jupiter']\n",
      "<Element tr at 0x10c5870e8> ['Saturn']\n",
      "<Element tr at 0x10c587ef8> ['Uranus']\n",
      "<Element tr at 0x10c587f48> ['Neptune']\n",
      "<Element tr at 0x10c5871d8> ['Pluto']\n"
     ]
    }
   ],
   "source": [
    "for v in tree.xpath(\"/html/body/div[1]/table/tr[position() > 1]\"):\n",
    "    print (v, v.xpath(\"@name\"))"
   ]
  },
  {
   "cell_type": "markdown",
   "metadata": {},
   "source": [
    "We can also navigate to the parent of a node using parent::*."
   ]
  },
  {
   "cell_type": "code",
   "execution_count": 24,
   "metadata": {},
   "outputs": [
    {
     "name": "stdout",
     "output_type": "stream",
     "text": [
      "<Element table at 0x109d1db38> ['planetsTable']\n",
      "<Element table at 0x10c578ef8> ['footerTable']\n"
     ]
    }
   ],
   "source": [
    "for v in tree.xpath(\"/html/body/div/table/tr/parent::*\"):\n",
    "    print (v, v.xpath(\"@id\"))"
   ]
  },
  {
   "cell_type": "markdown",
   "metadata": {},
   "source": [
    "This returned two got two parents as remember that this xpatch returns the rows from two tables, so the parents of all those rows are found.\n",
    "\n",
    "The * is a wild card that represents any parent tags with any name.  In this case, the two parents are both tables, but in general the result can be of any number of element types.  To specify a specific type, replace the * with the name."
   ]
  },
  {
   "cell_type": "code",
   "execution_count": 25,
   "metadata": {},
   "outputs": [
    {
     "name": "stdout",
     "output_type": "stream",
     "text": [
      "<Element table at 0x10c55b6d8> ['planetsTable']\n",
      "<Element table at 0x10c578ef8> ['footerTable']\n"
     ]
    }
   ],
   "source": [
    "for v in tree.xpath(\"/html/body/div/table/tr/parent::table\"):\n",
    "    print (v, v.xpath(\"@id\"))"
   ]
  },
  {
   "cell_type": "markdown",
   "metadata": {},
   "source": [
    "It is also possible to specific a specific parent by position or attribute.  The following selects the parent with the id footerTable."
   ]
  },
  {
   "cell_type": "code",
   "execution_count": 26,
   "metadata": {},
   "outputs": [
    {
     "name": "stdout",
     "output_type": "stream",
     "text": [
      "<Element table at 0x10c578ef8> ['footerTable']\n"
     ]
    }
   ],
   "source": [
    "for v in tree.xpath(\"/html/body/div/table/tr/parent::*[@id='footerTable']\"):\n",
    "    print (v, v.xpath(\"@id\"))"
   ]
  },
  {
   "cell_type": "markdown",
   "metadata": {},
   "source": [
    "A shortcut for parent is .. (and . also represents the current node)."
   ]
  },
  {
   "cell_type": "code",
   "execution_count": 27,
   "metadata": {},
   "outputs": [
    {
     "name": "stdout",
     "output_type": "stream",
     "text": [
      "<Element table at 0x10c587688> ['planetsTable']\n",
      "<Element table at 0x10c578ef8> ['footerTable']\n"
     ]
    }
   ],
   "source": [
    "for v in tree.xpath(\"/html/body/div/table/tr/..\"):\n",
    "    print (v, v.xpath(\"@id\"))"
   ]
  },
  {
   "cell_type": "markdown",
   "metadata": {},
   "source": [
    "The following finds the mass of Earth."
   ]
  },
  {
   "cell_type": "code",
   "execution_count": 28,
   "metadata": {},
   "outputs": [
    {
     "data": {
      "text/plain": [
       "'5.97'"
      ]
     },
     "execution_count": 28,
     "metadata": {},
     "output_type": "execute_result"
    }
   ],
   "source": [
    "tree.xpath(\"/html/body/div[1]/table/tr[@name='Earth']/td[3]/text()[1]\")[0].strip()"
   ]
  },
  {
   "cell_type": "markdown",
   "metadata": {
    "collapsed": true
   },
   "source": [
    "## How it works\n",
    "XPath is a element of the XSLT standard, and provides the ability to select nodes in an XML document.  Since HTML is a variant of HTML, XPath can also be used to find elements in HTML.\n",
    "\n",
    "lxml is a python library created for manipulating HTML document.  One of the features of lxml is the ability to execute XPath statements against a document, which lxml will then return the resulting set of nodes to your code.\n",
    "\n",
    "XPath itself is designed to model the structure of XML nodes, attributes and properties.  The systax provides means of finding items in the XML that match the expression.  This can include matching or logical comparison of any of the nodes, attributes, values or text in the XML document.  \n",
    "\n",
    "Expressions can be combined to form very complex paths within the document.  It is also possible to navigate the document based upon relative positions, which helps greatly in finding data based upon relative instead of absolute positions within the DOM.\n",
    "\n",
    "Understanding XPath is essential to knowing how to parse HTML and perform web scraping.  And as we will see, it underlies and provides an implementation for many of the higher level libraries such as lxml.  \n",
    "\n",
    "\n",
    "## There's more...\n",
    "Xpath is actually an amazing tool for working with XML and HTML documents.  It is quite rich in its capabilities, and we barely touched the surface of it's capabilities to demonstrate a few examples that are common to scraping data in HTML documents.  To learn much more, please visit the following links:\n",
    "\n",
    "* https://www.w3schools.com/xml/xml_xpath.asp\n",
    "* https://www.w3.org/TR/xpath/"
   ]
  },
  {
   "cell_type": "markdown",
   "metadata": {},
   "source": [
    "---\n",
    "# CSS Select\n",
    "CSS selectors are patterns used for selecting elements and are often used to define which elements that styles should be applied.  They can also be used with lxml to select nodes in the DOM. CSS selectors are common to usje as they are more compact than XPath and generally can be more reusable in code. As examples of common selectors which may be used:\n",
    "\n",
    "| What you are looking for | Example |\n",
    "| -- | -- |\n",
    "| All tags | * |\n",
    "| A sprecific tag (ie: tr) | tr |\n",
    "| A class name (ie: \"planet\") | .planet |\n",
    "| A tag with a class \"planet\" | tr.planet |\n",
    "| A tag with an ID \"planet3\" | tr#planet3 |\n",
    "| A child tr of a table | table > tr |\n",
    "| A descendant tr of a table | table tr |\n",
    "| A tag with an attribute (ie: tr with id=\"planet4\") | a[id=Mars] |\n",
    "\n",
    "## Getting ready\n",
    "Let's start examining css selectors by loading the page."
   ]
  },
  {
   "cell_type": "code",
   "execution_count": 29,
   "metadata": {},
   "outputs": [],
   "source": [
    "from lxml import html\n",
    "import requests\n",
    "page = requests.get(\"http://127.0.0.1:8080/pages/planets.min.html\")\n",
    "tree = html.fromstring(page.content)"
   ]
  },
  {
   "cell_type": "markdown",
   "metadata": {
    "collapsed": true
   },
   "source": [
    "## How to do it..."
   ]
  },
  {
   "cell_type": "markdown",
   "metadata": {},
   "source": [
    "The following selects all tr elements with a class equal to \"planet\"."
   ]
  },
  {
   "cell_type": "code",
   "execution_count": 30,
   "metadata": {},
   "outputs": [
    {
     "name": "stdout",
     "output_type": "stream",
     "text": [
      "<Element tr at 0x10c59a1d8> ['Mercury']\n",
      "<Element tr at 0x10c59a278> ['Venus']\n",
      "<Element tr at 0x10c59a688> ['Earth']\n",
      "<Element tr at 0x10c5b0cc8> ['Mars']\n",
      "<Element tr at 0x10c5b0ea8> ['Jupiter']\n",
      "<Element tr at 0x10c5b0ef8> ['Saturn']\n",
      "<Element tr at 0x10c5b0f48> ['Uranus']\n",
      "<Element tr at 0x10c5b0f98> ['Neptune']\n",
      "<Element tr at 0x10c584048> ['Pluto']\n"
     ]
    }
   ],
   "source": [
    "for v in tree.cssselect('tr.planet'):\n",
    "    print (v, v.xpath(\"@name\"))"
   ]
  },
  {
   "cell_type": "markdown",
   "metadata": {
    "collapsed": true
   },
   "source": [
    "Data for the Earth can be found by several means.  The following gets the row based on ID."
   ]
  },
  {
   "cell_type": "code",
   "execution_count": 31,
   "metadata": {},
   "outputs": [
    {
     "data": {
      "text/plain": [
       "(<Element tr at 0x10c578ef8>, 'Earth')"
      ]
     },
     "execution_count": 31,
     "metadata": {},
     "output_type": "execute_result"
    }
   ],
   "source": [
    "tr = tree.cssselect(\"tr#planet3\")\n",
    "tr[0], tr[0].xpath(\"./td[2]/text()\")[0].strip()"
   ]
  },
  {
   "cell_type": "markdown",
   "metadata": {},
   "source": [
    "Or find with an attribute with a specific value."
   ]
  },
  {
   "cell_type": "code",
   "execution_count": 32,
   "metadata": {},
   "outputs": [
    {
     "data": {
      "text/plain": [
       "(<Element tr at 0x10c584048>, 'Pluto')"
      ]
     },
     "execution_count": 32,
     "metadata": {},
     "output_type": "execute_result"
    }
   ],
   "source": [
    "tr = tree.cssselect(\"tr[name='Pluto']\")\n",
    "tr[0], tr[0].xpath(\"td[2]/text()\")[0].strip()"
   ]
  },
  {
   "cell_type": "markdown",
   "metadata": {},
   "source": [
    "Note that unlike XPath, the @ symbol need not be used to specify an attribute."
   ]
  },
  {
   "cell_type": "markdown",
   "metadata": {},
   "source": [
    "## How it works\n",
    "lxml converts the css selector you provide to XPath, and then performs that XPath expression against the underying document.  In essence, css selectors in lxml provide a shorthand to XPath that makes finding nodes fitting certain patterns simpler than with XPath.\n",
    "\n",
    "## There's more...\n",
    "Because css selectors utilize XPath under the covers, there is overhead to its used as compared to using XPath directly.  This difference is however almost a non-issue, and hence it certain scenarios it is easiest to just use cssselect.\n",
    "\n",
    "A full description of css selectors can be found at [Selectors Level 3](https://www.w3.org/TR/2011/REC-css3-selectors-20110929/)."
   ]
  },
  {
   "cell_type": "markdown",
   "metadata": {
    "collapsed": true
   },
   "source": [
    "---\n",
    "# Scrapy Selectors\n",
    "Scrapy is a Python web spider framework that is used to extract data from websites.  It's provides many powerful features for navigating entire websites, such as the ability to follow links.  A feature that it provides is the ability to find data within a document using the DOM, and using the now quite familiar XPath.\n",
    "\n",
    "The example we will look at will load the list of current questions on StackOverflow, and then parse this using a scrapy selector.  Using that selector, we will extract the text of each question.\n",
    "\n",
    "## Getting ready\n",
    "We start by importing Selector from scrapy, and also requests so that we can retrieve the page."
   ]
  },
  {
   "cell_type": "code",
   "execution_count": 33,
   "metadata": {},
   "outputs": [],
   "source": [
    "from scrapy.selector import Selector\n",
    "import requests\n",
    "from urllib.request import urlopen"
   ]
  },
  {
   "cell_type": "markdown",
   "metadata": {},
   "source": [
    "## How to do it...\n",
    "We start with the loading of the page.  The following loads the 10 most recent questions from StackOverflow."
   ]
  },
  {
   "cell_type": "code",
   "execution_count": 34,
   "metadata": {},
   "outputs": [
    {
     "data": {
      "text/plain": [
       "'\\n                src=\"https://ssum-sec.casalemedia.com/usermatch?s=183712&amp;cb=https%3A%2F%2Fengine.adzerk.net%2Fudb%2F22%2Fsync%2Fi.gif%3FpartnerId%3D1%26userId%3D\"\\r\\n                style=\"display: none;\" marginheight=\"0\" marginwidth=\"0\"></iframe>\\r\\n\\r\\n    <div id=\"notify-container\"></div>\\r\\n    <div id=\"custom-header\"></div>\\r\\n\\n\\n<header class=\"so-header js-so-header _fixed\">\\n    <div class=\"-container\">\\n        <div class=\"-main\">            \\n            <a href=\"https://stackoverflow.com\" class=\"-logo js-gps-track \"\\n               data-gps-track=\"top_nav.click({is_current:false, location:3, destination:8})\">\\n\\n                <span class=\"-img\">Stack Overflow</span>\\n            </a>\\n\\n            <nav class=\"navigation\" role=\"navigation\" aria-label=\"site navigation\">\\n                <ol class=\"-list\">\\n                        <li class=\"-item _current\">\\n        <a id=\"nav-questions\" href=\"/questions\" class=\"-link js-gps-track\" \\n            data-gps-track=\"top_nav.click({is_current:true, '"
      ]
     },
     "execution_count": 34,
     "metadata": {},
     "output_type": "execute_result"
    }
   ],
   "source": [
    "payload = { 'pagesize': 1, 'sort': 'newest'}\n",
    "response = requests.get(\"http://stackoverflow.com/questions\", params=payload)\n",
    "response.text[5000:6000]"
   ]
  },
  {
   "cell_type": "markdown",
   "metadata": {},
   "source": [
    "Now create a Selector by passing it the response object."
   ]
  },
  {
   "cell_type": "code",
   "execution_count": 35,
   "metadata": {},
   "outputs": [
    {
     "data": {
      "text/plain": [
       "<Selector xpath=None data='<html>\\r\\n\\r\\n<head>\\r\\n\\r\\n<title>Newest Questi'>"
      ]
     },
     "execution_count": 35,
     "metadata": {},
     "output_type": "execute_result"
    }
   ],
   "source": [
    "selector = Selector(response)\n",
    "selector"
   ]
  },
  {
   "cell_type": "markdown",
   "metadata": {},
   "source": [
    "Now we can use XPath to retreive the question summaries."
   ]
  },
  {
   "cell_type": "code",
   "execution_count": 36,
   "metadata": {},
   "outputs": [
    {
     "data": {
      "text/plain": [
       "[<Selector xpath='//div[@class=\"summary\"]/h3' data='<h3><a href=\"/questions/45686600/npm-ins'>,\n",
       " <Selector xpath='//div[@class=\"summary\"]/h3' data='<h3><a href=\"/questions/45686599/ajax-ca'>,\n",
       " <Selector xpath='//div[@class=\"summary\"]/h3' data='<h3><a href=\"/questions/45686596/java-nu'>,\n",
       " <Selector xpath='//div[@class=\"summary\"]/h3' data='<h3><a href=\"/questions/45686595/possibl'>,\n",
       " <Selector xpath='//div[@class=\"summary\"]/h3' data='<h3><a href=\"/questions/45686592/can-we-'>]"
      ]
     },
     "execution_count": 36,
     "metadata": {},
     "output_type": "execute_result"
    }
   ],
   "source": [
    "summaries = selector.xpath('//div[@class=\"summary\"]/h3')\n",
    "summaries[0:5]"
   ]
  },
  {
   "cell_type": "markdown",
   "metadata": {},
   "source": [
    "And the following prints all of the contained questions."
   ]
  },
  {
   "cell_type": "code",
   "execution_count": 37,
   "metadata": {},
   "outputs": [
    {
     "name": "stdout",
     "output_type": "stream",
     "text": [
      "npm install with 2 projects in docker container\n",
      "ajax can not recieve JSON from php\n",
      "Java NullPointerExcpetion error in Android with setText method\n",
      "Possible side effect using comma in querystring?\n",
      "Can we redirect the User to a URL of our choice if the user is browsing internet connected to our wi-fi hotspot?\n",
      "How to apply this pandas.Series code to compare several files within a folder\n",
      "How to catch component unmount caused by hot reload?\n",
      "How do you add your own cookie auth scheme in ASP.NET Core 2.0?\n",
      "Google Maps Javascript API ignore CSS for input field\n",
      "How to write blocks (closures) in swift3 right way?\n",
      "How to debug classloader issues without tools\n",
      "Using Eigen to solve a dense, constrained least squares fit\n",
      "PC Cmos Cleaner cannot burn on CD\n",
      "gulp js gave the error when i changed my js files..| throw er\n",
      "How to convert Python Pandas Dataframe to R data.frame\n",
      "error in C using malloc : corupted size vs prev_size\n",
      "Flat UI Checkbox style not applying on startup\n",
      "How to make a dictionary or many lists using for loops and name each a different name in python\n",
      "How to install miniconda on Ubuntu automatically\n",
      "broken kotlin recyclerview shows nothing, everything seems fine in debugger [duplicate]\n",
      "Shopify + Parallax theme Issues when trying to use custom Css/html\n",
      "Fixing Numpy failing to import multiarray\n",
      "Get Data from POST request on client side\n",
      "Empty script executing commands which existed previously\n",
      "How to make background's color transition on a react component?\n",
      "Audio not working After Accept Call in CallKit iOS\n",
      "How to map object array to my type array\n",
      "Convert a docker run statement into a docker-compose.yml file\n",
      "Telegram bot: How to get chosen inline result\n",
      "how to manage server load on asp.net website [on hold]\n",
      "Highcharts Isomorphic rendering / web-workers\n",
      "JavaScript changing object list to array. return undefined\n",
      "OpenAIP to KML file conversion\n",
      "Failing to establish a connection with a custom service\n",
      "could not find secret key at openrainbow.com\n",
      "trouble running ruby on rails console on mac\n",
      "Webpack builds on production environment\n",
      "Does mine-craft server java free ram once it fills up? [duplicate]\n",
      "dismiss a popup view controller\n",
      "How can I disable same origin check in jsdom?\n",
      "What's the difference between id and place id in google map api result?\n",
      "Cannot set d3 axis to only integers\n",
      "How to parse a(n) (HTML?) table using Python?\n",
      "Given the Following Functions, Find the Space and time analysis​ for each function\n",
      "Getting Blurred Element\n",
      "How to visible only 3 items on Owl Slider instead of 5\n",
      "First Person Controller camera rotation doesn't work\n",
      "Only parameterless constructors and initializers are supported in LINQ to Entities. (ASP.NET Web API)\n",
      "C++ Runtime error when linked with Python COM\n",
      "How do I get the actual path of the video sent to my app from Gallery via the ContentProvider URI?\n"
     ]
    }
   ],
   "source": [
    "for question in summaries:\n",
    "    print (question.xpath('a[@class=\"question-hyperlink\"]/text()').extract()[0])"
   ]
  },
  {
   "cell_type": "markdown",
   "metadata": {},
   "source": [
    "## How it works\n",
    "Underneath the covers, the Scrapy builds its selectors on top of lxml.  It offers a smaller and slightly simpler API which compares similarly in performance to lxml.\n",
    "\n",
    "## There's more...\n",
    "To learn more about Scrapy Selectors see https://doc.scrapy.org/en/latest/topics/selectors.html."
   ]
  },
  {
   "cell_type": "markdown",
   "metadata": {
    "collapsed": true
   },
   "source": [
    "---\n",
    "# How to load data in unicode / UTF-8\n",
    "A documents encoding tells an application how the characters in the document are represented as bytes in the file.  Essentially, the encoding specified how many bits there are per character.  In a standard ASCII document, all characters are 8-bits.  HTML files are often encoded as 8-bits per character, but with the globalization of the Internet, this is not always the case.  Many HTML documents are encoded as as 16-bit characters, or using a combination of 8 and 16-bit characters.\n",
    "\n",
    "A particularly common form of encoding of HTML documents is referred to as UTF-8.  This is the encoding form that we will examine.\n",
    "\n",
    "## Getting ready\n",
    "We will read a file named unicode.html.  This file is UTF-8 encoded and contains several sets of characters in different parts of the encoding space.  For example, the page looks like the following in your browser.\n",
    "\n",
    "![Unicode.html](img/01_04.png)\n",
    "\n",
    "Using an editor that supports UTF-8 we can see how the Cyrillic characters are rendered in the editor (in my case, Visual Studio Code).\n",
    "\n",
    "![Cyrillic](img/01_05.png)"
   ]
  },
  {
   "cell_type": "markdown",
   "metadata": {},
   "source": [
    "## How to do it...\n",
    "We will look at using urlopen and requests to handle HTML in UTF-8.  Let's start with urlopen.  The following reads the data and displays the section of the file for the Cyrillic table."
   ]
  },
  {
   "cell_type": "code",
   "execution_count": 38,
   "metadata": {},
   "outputs": [
    {
     "data": {
      "text/plain": [
       "b'><strong>Cyrillic</strong> &nbsp; U+0400 \\xe2\\x80\\x93 U+04FF &nbsp; (1024\\xe2\\x80\\x931279)</p>\\n    <table class=\"unicode\">\\n        <tbody>\\n            <tr valign=\"top\">\\n                <td width=\"50\">&nbsp;</td>\\n                <td class=\"b\" width=\"50\">\\xd0\\x89</td>\\n                <td class=\"b\" width=\"50\">\\xd0\\xa9</td>\\n                <td class=\"b\" width=\"50\">\\xd1\\x89</td>\\n                <td class=\"b\" width=\"50\">\\xd3\\x83</td>\\n            </tr>\\n        </tbody>\\n    </table>\\n\\n '"
      ]
     },
     "execution_count": 38,
     "metadata": {},
     "output_type": "execute_result"
    }
   ],
   "source": [
    "from urllib.request import urlopen\n",
    "page = urlopen(\"http://localhost:8080/pages/unicode.html\")\n",
    "content = page.read()\n",
    "content[840:1280]"
   ]
  },
  {
   "cell_type": "markdown",
   "metadata": {},
   "source": [
    "Note how the Cyrillic characters were read in as multi-byte codes using \\ notation, such as \\xd0\\x89.  To rectify this, we can convert the content to UTF-8 format."
   ]
  },
  {
   "cell_type": "code",
   "execution_count": 39,
   "metadata": {},
   "outputs": [
    {
     "data": {
      "text/plain": [
       "'<strong>Cyrillic</strong> &nbsp; U+0400 – U+04FF &nbsp; (1024–1279)</p>\\n    <table class=\"unicode\">\\n        <tbody>\\n            <tr valign=\"top\">\\n                <td width=\"50\">&nbsp;</td>\\n                <td class=\"b\" width=\"50\">Љ</td>\\n                <td class=\"b\" width=\"50\">Щ</td>\\n                <td class=\"b\" width=\"50\">щ</td>\\n                <td class=\"b\" width=\"50\">Ӄ</td>\\n            </tr>\\n        </tbody>\\n    </table>\\n\\n   '"
      ]
     },
     "execution_count": 39,
     "metadata": {},
     "output_type": "execute_result"
    }
   ],
   "source": [
    "str(content, \"utf-8\")[837:1270]"
   ]
  },
  {
   "cell_type": "markdown",
   "metadata": {},
   "source": [
    "Note that the output now has the characters encoded properly.\n",
    "\n",
    "With requests we can do this in one statement."
   ]
  },
  {
   "cell_type": "code",
   "execution_count": 40,
   "metadata": {},
   "outputs": [
    {
     "data": {
      "text/plain": [
       "'<!DOCTYPE html PUBLIC \"-//W3C//DTD HTML 4.01 Transitional//EN\" \"http://www.w3.org/TR/html4/loose.dtd\">\\n<html lang=\"en\" data-ember-extension=\"1\" class=\"\">\\n\\n<head>\\n    <meta http-equiv=\"Content-Type\" content=\"text/html; charset=UTF-8\">\\n    <title>Samples of Unicode character ranges</title>\\n    </meta>\\n</head>\\n\\n<body>\\n    <h2>Test for Unicode support in Web browsers</h2>\\n    <p><strong><a>C0 Controls and Basic Latin</a></strong> &nbsp; U+0000 – U+007F &nbsp; (0–127)</p>\\n    <table class=\"unicode\">\\n        <tbody>\\n            <tr valign=\"top\">\\n                <td width=\"50\">&nbsp;</td>\\n                <td class=\"b\" width=\"50\">!</td>\\n                <td class=\"b\" width=\"50\">5</td>\\n                <td class=\"b\" width=\"50\">A</td>\\n                <td class=\"b\" width=\"50\">a</td>\\n            </tr>\\n        </tbody>\\n    </table>\\n\\n    <p><strong>Cyrillic</strong> &nbsp; U+0400 – U+04FF &nbsp; (1024–1279)</p>\\n    <table class=\"unicode\">\\n        <tbody>\\n            <tr valign=\"top\">\\n                <td width=\"50\">&nbsp;</td>\\n                <td class=\"b\" width=\"50\">Љ</td>\\n                <td class=\"b\" width=\"50\">Щ</td>\\n                <td class=\"b\" width=\"50\">щ</td>\\n                <td class=\"b\" width=\"50\">Ӄ</td>\\n            </tr>\\n        </tbody>\\n    </table>\\n\\n    <p><strong>Hebrew</strong> &nbsp; U+0590 – U+05FF &nbsp; (1424–1535)</p>\\n    <table class=\"unicode\">\\n        <tbody>\\n            <tr valign=\"top\">\\n                <td width=\"50\">&nbsp;</td>\\n                <td class=\"b\" width=\"50\">סֶ</td>\\n                <td class=\"b\" width=\"50\">א</td>\\n                <td class=\"b\" width=\"50\">ב</td>\\n                <td class=\"b\" width=\"50\">ױ</td>\\n            </tr>\\n        </tbody>\\n    </table>\\n\\n    <p><strong>Arabic</strong> &nbsp; U+0600 – U+06FF &nbsp; (1536–1791)</p>\\n    <table class=\"unicode\">\\n        <tbody>\\n            <tr valign=\"top\">\\n                <td width=\"50\">&nbsp;</td>\\n                <td class=\"b\" width=\"50\">؟</td>\\n                <td class=\"b\" width=\"50\">ب</td>\\n                <td class=\"b\" width=\"50\">حٍ</td>\\n                <td class=\"b\" width=\"50\">۳</td>\\n            </tr>\\n        </tbody>\\n    </table>\\n<!-- Code injected by live-server -->\\n<script type=\"text/javascript\">\\n\\t// <![CDATA[  <-- For SVG support\\n\\tif (\\'WebSocket\\' in window) {\\n\\t\\t(function() {\\n\\t\\t\\tfunction refreshCSS() {\\n\\t\\t\\t\\tvar sheets = [].slice.call(document.getElementsByTagName(\"link\"));\\n\\t\\t\\t\\tvar head = document.getElementsByTagName(\"head\")[0];\\n\\t\\t\\t\\tfor (var i = 0; i < sheets.length; ++i) {\\n\\t\\t\\t\\t\\tvar elem = sheets[i];\\n\\t\\t\\t\\t\\thead.removeChild(elem);\\n\\t\\t\\t\\t\\tvar rel = elem.rel;\\n\\t\\t\\t\\t\\tif (elem.href && typeof rel != \"string\" || rel.length == 0 || rel.toLowerCase() == \"stylesheet\") {\\n\\t\\t\\t\\t\\t\\tvar url = elem.href.replace(/(&|\\\\?)_cacheOverride=\\\\d+/, \\'\\');\\n\\t\\t\\t\\t\\t\\telem.href = url + (url.indexOf(\\'?\\') >= 0 ? \\'&\\' : \\'?\\') + \\'_cacheOverride=\\' + (new Date().valueOf());\\n\\t\\t\\t\\t\\t}\\n\\t\\t\\t\\t\\thead.appendChild(elem);\\n\\t\\t\\t\\t}\\n\\t\\t\\t}\\n\\t\\t\\tvar protocol = window.location.protocol === \\'http:\\' ? \\'ws://\\' : \\'wss://\\';\\n\\t\\t\\tvar address = protocol + window.location.host + window.location.pathname + \\'/ws\\';\\n\\t\\t\\tvar socket = new WebSocket(address);\\n\\t\\t\\tsocket.onmessage = function(msg) {\\n\\t\\t\\t\\tif (msg.data == \\'reload\\') window.location.reload();\\n\\t\\t\\t\\telse if (msg.data == \\'refreshcss\\') refreshCSS();\\n\\t\\t\\t};\\n\\t\\t\\tconsole.log(\\'Live reload enabled.\\');\\n\\t\\t})();\\n\\t}\\n\\t// ]]>\\n</script>\\n</body>\\n\\n</html>'"
      ]
     },
     "execution_count": 40,
     "metadata": {},
     "output_type": "execute_result"
    }
   ],
   "source": [
    "import requests\n",
    "r = requests.get(\"http://localhost:8080/pages/unicode.html\")\n",
    "r.text"
   ]
  },
  {
   "cell_type": "markdown",
   "metadata": {},
   "source": [
    "## How it works\n",
    "In the case of using urlopen, the conversion was explicitly performed by using the str statement and specifying that the content should be converted to UTF-8.  For Requests, the library was able to determine from the content within the HTML that it was in UTF-8 format by seeing the following tag in the document:\n",
    "\n",
    "    <meta http-equiv=\"Content-Type\" content=\"text/html; charset=UTF-8\">\n",
    "\n",
    "\n",
    "## There's more...\n",
    "There are a number of resources available on the Internet to learn about Unicode and UTF-8 encoding techniques.  Perhaps the best is the following Wikipedia article with is an excellent summary and has a great table describing the encoding technique.\n",
    "\n",
    "https://en.wikipedia.org/wiki/UTF-8"
   ]
  }
 ],
 "metadata": {
  "kernelspec": {
   "display_name": "Python 3",
   "language": "python",
   "name": "python3"
  },
  "language_info": {
   "codemirror_mode": {
    "name": "ipython",
    "version": 3
   },
   "file_extension": ".py",
   "mimetype": "text/x-python",
   "name": "python",
   "nbconvert_exporter": "python",
   "pygments_lexer": "ipython3",
   "version": "3.6.1"
  }
 },
 "nbformat": 4,
 "nbformat_minor": 2
}
